{
 "cells": [
  {
   "cell_type": "markdown",
   "metadata": {},
   "source": [
    "<center>\n",
    "    <img src=\"https://cf-courses-data.s3.us.cloud-object-storage.appdomain.cloud/IBMDeveloperSkillsNetwork-DS0105EN-SkillsNetwork/labs/Module2/images/SN_web_lightmode.png\" width=\"300\" alt=\"cognitiveclass.ai logo\">\n",
    "</center>\n"
   ]
  },
  {
   "cell_type": "markdown",
   "metadata": {},
   "source": [
    "#### Add your code below following the instructions given in the course\n"
   ]
  },
  {
   "cell_type": "markdown",
   "metadata": {},
   "source": [
    "#Peer-graded_Assignment_submission"
   ]
  },
  {
   "cell_type": "markdown",
   "metadata": {},
   "source": [
    "## Introduction\n",
    "\n",
    "Welcome to this notebook! In this document, we'll explore various concepts related to data science and delve into jupyter notebook. Throughout this notebook, we'll use code examples, explanations, and visualizations to make learning both engaging and insightful.\n"
   ]
  },
  {
   "cell_type": "markdown",
   "metadata": {},
   "source": [
    "###Data Science Languages\n",
    "\n",
    "- Python: Widely used for its versatility, extensive libraries, and readability.\n",
    "- R: Known for its statistical computing and visualization capabilities.\n",
    "- SQL: Essential for working with relational databases and handling large datasets.\n",
    "- Julia: Gaining popularity for its speed and suitability for scientific computing.\n",
    "- Java: Used in big data frameworks and for enterprise-level applications.\n",
    "- Scala: Commonly associated with Apache Spark for distributed computing.\n",
    "- MATLAB: Frequently employed in engineering and scientific research.\n"
   ]
  },
  {
   "cell_type": "markdown",
   "metadata": {},
   "source": [
    "### Commonly Used Data Science Libraries\n",
    "\n",
    "- TensorFlow: An open-source machine learning library developed by Google, useful for building and training neural network models.\n",
    "- NumPy: Provides support for large, multi-dimensional arrays and matrices, and an assortment of mathematical functions to operate on these arrays.\n",
    "- SciPy: Offers scientific and technical computing tools that complement NumPy, including optimization, integration, linear algebra, and more.\n",
    "- Pandas: Designed for data manipulation and analysis, providing powerful data structures and tools for cleaning and processing data.\n",
    "- Matplotlib: A comprehensive library for creating static, interactive, and animated visualizations in Python.\n",
    "- Keras: A high-level neural networks API, often used for its ease of use and fast prototyping of neural networks.\n",
    "- SciKit-Learn: Provides simple and efficient tools for data mining and data analysis, particularly in machine learning.\n",
    "- PyTorch: Open-source machine learning library developed by Facebook's AI Research lab (FAIR), known for its dynamic computation graphs.\n",
    "- Scrapy: A fast, high-level web crawling and web scraping framework.\n",
    "- BeautifulSoup: A Python library for pulling data out of HTML and XML files.\n",
    "- LightGBM: A gradient boosting framework that uses tree-based learning algorithms.\n",
    "- ELI5: A library for debugging/visualizing machine learning models.\n",
    "- Theano: A numerical computation library that allows defining, optimizing, and evaluating mathematical expressions.\n",
    "- NuPIC: A library used for implementing hierarchical temporal memory (HTM).\n",
    "- Ramp: A library for machine learning and prediction.\n",
    "- Pipenv: A tool that aims to bring the best of all packaging worlds to Python.\n",
    "- Bob: A free signal-processing and machine learning toolbox.\n",
    "- PyBrain: A modular Machine Learning Library for Python.\n",
    "- Caffe2: A lightweight, modular, and scalable deep learning framework.\n",
    "- Chainer: A flexible and intuitive deep learning framework.\n"
   ]
  },
  {
   "cell_type": "markdown",
   "metadata": {},
   "source": [
    "| Tool           | Description                                                |\n",
    "|----------------|------------------------------------------------------------|\n",
    "| TensorFlow     | Open-source machine learning library by Google.             |\n",
    "| NumPy          | Support for large, multi-dimensional arrays and matrices.   |\n",
    "| SciPy          | Scientific computing tools complementing NumPy.             |\n",
    "| Pandas         | Data manipulation and analysis with powerful data structures.|\n",
    "| Matplotlib     | Comprehensive library for creating visualizations.          |\n",
    "| Keras          | High-level neural networks API, user-friendly for prototyping.|\n",
    "| SciKit-Learn   | Simple and efficient tools for data mining and analysis.     |\n",
    "| PyTorch        | Facebook's open-source machine learning library, dynamic graphs.|\n",
    "| Scrapy         | Fast, high-level web crawling and scraping framework.       |\n",
    "| BeautifulSoup  | Pulling data out of HTML and XML files.                     |\n",
    "| LightGBM       | Gradient boosting framework using tree-based learning algorithms.|\n",
    "| ELI5           | Library for debugging and visualizing machine learning models.|\n",
    "| Theano         | Numerical computation library allowing defining mathematical expressions.|\n",
    "| NuPIC          | Library for implementing hierarchical temporal memory (HTM).|\n",
    "| Ramp           | Library for machine learning and prediction.                |\n",
    "| Pipenv         | Tool aiming to bring the best of packaging worlds to Python.|\n",
    "| Bob            | Signal-processing and machine learning toolbox.             |\n",
    "| PyBrain        | Modular Machine Learning Library for Python.                |\n",
    "| Caffe2         | Lightweight, modular, and scalable deep learning framework. |\n",
    "| Chainer        | Flexible and intuitive deep learning framework.             |\n"
   ]
  },
  {
   "cell_type": "markdown",
   "metadata": {},
   "source": [
    "### Introduction to Arithmetic Expressions\n",
    "\n",
    "- Addition: 5 + 3\n",
    "- Subtraction: 10 - 4\n",
    "- Multiplication: 6 * 7\n",
    "- Division: 20 / 5\n"
   ]
  },
  {
   "cell_type": "code",
   "execution_count": 1,
   "metadata": {
    "tags": []
   },
   "outputs": [
    {
     "name": "stdout",
     "output_type": "stream",
     "text": [
      "Multiplication Result: 15\n",
      "Addition Result: 8\n"
     ]
    }
   ],
   "source": [
    "# Multiply and Add Numbers\n",
    "a = 5\n",
    "b = 3\n",
    "\n",
    "# Multiply\n",
    "result_multiply = a * b\n",
    "print(\"Multiplication Result:\", result_multiply)\n",
    "\n",
    "# Add\n",
    "result_add = a + b\n",
    "print(\"Addition Result:\", result_add)\n"
   ]
  },
  {
   "cell_type": "code",
   "execution_count": 2,
   "metadata": {
    "tags": []
   },
   "outputs": [
    {
     "name": "stdout",
     "output_type": "stream",
     "text": [
      "Minutes: 120\n",
      "Hours: 2.0\n"
     ]
    }
   ],
   "source": [
    "# Convert Minutes to Hours\n",
    "minutes = 120  # Example: 120 minutes\n",
    "\n",
    "# Conversion\n",
    "hours = minutes / 60\n",
    "\n",
    "print(\"Minutes:\", minutes)\n",
    "print(\"Hours:\", hours)\n"
   ]
  },
  {
   "cell_type": "markdown",
   "metadata": {},
   "source": [
    "#unorderlist\n",
    "\n",
    "-List popular languages that Data Scientists use.\n",
    "-List commonly used libraries used by Data Scientists.\n",
    "-Comment on Data Science tools."
   ]
  },
  {
   "cell_type": "markdown",
   "metadata": {},
   "source": [
    "- List popular languages that Data Scientists use. \n",
    "- List commonly used libraries used by Data Scientists. \n",
    "- Comment on Data Science tools."
   ]
  },
  {
   "cell_type": "markdown",
   "metadata": {},
   "source": [
    "#Author:\n",
    "Germano Costa"
   ]
  },
  {
   "cell_type": "markdown",
   "metadata": {},
   "source": [
    "# Author: Germano Costa"
   ]
  },
  {
   "cell_type": "code",
   "execution_count": null,
   "metadata": {},
   "outputs": [],
   "source": []
  }
 ],
 "metadata": {
  "kernelspec": {
   "display_name": "Python",
   "language": "python",
   "name": "conda-env-python-py"
  },
  "language_info": {
   "codemirror_mode": {
    "name": "ipython",
    "version": 3
   },
   "file_extension": ".py",
   "mimetype": "text/x-python",
   "name": "python",
   "nbconvert_exporter": "python",
   "pygments_lexer": "ipython3",
   "version": "3.7.12"
  }
 },
 "nbformat": 4,
 "nbformat_minor": 4
}
